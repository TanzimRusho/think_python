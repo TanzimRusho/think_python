{
  "nbformat": 4,
  "nbformat_minor": 0,
  "metadata": {
    "colab": {
      "name": "timeit.ipynb",
      "provenance": [],
      "authorship_tag": "ABX9TyOo1oRye47e1XmV1Jvagbp+",
      "include_colab_link": true
    },
    "kernelspec": {
      "name": "python3",
      "display_name": "Python 3"
    },
    "language_info": {
      "name": "python"
    }
  },
  "cells": [
    {
      "cell_type": "markdown",
      "metadata": {
        "id": "view-in-github",
        "colab_type": "text"
      },
      "source": [
        "<a href=\"https://colab.research.google.com/github/TanzimRusho/think_python/blob/main/timeit.ipynb\" target=\"_parent\"><img src=\"https://colab.research.google.com/assets/colab-badge.svg\" alt=\"Open In Colab\"/></a>"
      ]
    },
    {
      "cell_type": "code",
      "metadata": {
        "id": "Qm01xn1ExKTF"
      },
      "source": [
        "def mult_without_comprehension(num):\n",
        "    for n in num:\n",
        "        n *= 10\n",
        "\n",
        "    return num"
      ],
      "execution_count": 3,
      "outputs": []
    },
    {
      "cell_type": "code",
      "metadata": {
        "id": "OzSRdgHOxXoN"
      },
      "source": [
        "def mult_with_comprehension(num):\n",
        "    return [n * 10 for n in num]"
      ],
      "execution_count": 4,
      "outputs": []
    },
    {
      "cell_type": "code",
      "metadata": {
        "colab": {
          "base_uri": "https://localhost:8080/"
        },
        "id": "ZWY0bIsZxjb8",
        "outputId": "a90761fa-f7b7-4e6d-e0f6-d4cc257158a1"
      },
      "source": [
        "%%timeit\n",
        "\n",
        "mult_without_comprehension(range(1000))"
      ],
      "execution_count": 5,
      "outputs": [
        {
          "output_type": "stream",
          "text": [
            "10000 loops, best of 5: 70.3 µs per loop\n"
          ],
          "name": "stdout"
        }
      ]
    },
    {
      "cell_type": "code",
      "metadata": {
        "colab": {
          "base_uri": "https://localhost:8080/"
        },
        "id": "u5_za_jkx5Vj",
        "outputId": "a0a5245f-a219-4124-bba1-5af3f74718bd"
      },
      "source": [
        "%%timeit\n",
        "\n",
        "mult_with_comprehension(range(1000))"
      ],
      "execution_count": 6,
      "outputs": [
        {
          "output_type": "stream",
          "text": [
            "10000 loops, best of 5: 78.1 µs per loop\n"
          ],
          "name": "stdout"
        }
      ]
    }
  ]
}